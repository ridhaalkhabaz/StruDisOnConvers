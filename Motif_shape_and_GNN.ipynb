{
 "cells": [
  {
   "cell_type": "markdown",
   "id": "695f2706",
   "metadata": {},
   "source": [
    "# Motif Shape and its latent represenation\n",
    "\n",
    "#### Author: Ridha Alkhabaz\n",
    "\n",
    "we want to see different sizes and shapes of graphs and their latent representations. \n",
    "\n",
    "\n",
    "#### Imports:\n"
   ]
  },
  {
   "cell_type": "code",
   "execution_count": null,
   "id": "925133bd",
   "metadata": {},
   "outputs": [],
   "source": [
    "import copy\n",
    "import os.path as osp\n",
    "import time\n",
    "import numpy as np\n",
    "import pandas as pd \n",
    "import torch_geometric as pg\n",
    "import seaborn as sns\n",
    "import matplotlib.pyplot as plt\n",
    "import torch \n",
    "import torch.nn.functional as F\n",
    "from sklearn.decomposition import PCA\n",
    "from bhtsne import tsne\n",
    "from tqdm import tqdm\n",
    "from torch_geometric.datasets import ExplainerDataset \n",
    "from torch_geometric.loader import NeighborLoader\n",
    "from torch_geometric.nn import SAGEConv\n",
    "from torch_geometric.datasets.graph_generator import GraphGenerator, BAGraph, ERGraph, Gridgraph \n",
    "from torch_geometric.datasets.motif_generator import HouseMotif, CycleMotif"
   ]
  },
  {
   "cell_type": "code",
   "execution_count": null,
   "id": "2fdbcdb8",
   "metadata": {},
   "outputs": [],
   "source": []
  }
 ],
 "metadata": {
  "kernelspec": {
   "display_name": "Python 3 (ipykernel)",
   "language": "python",
   "name": "python3"
  },
  "language_info": {
   "codemirror_mode": {
    "name": "ipython",
    "version": 3
   },
   "file_extension": ".py",
   "mimetype": "text/x-python",
   "name": "python",
   "nbconvert_exporter": "python",
   "pygments_lexer": "ipython3",
   "version": "3.9.13"
  }
 },
 "nbformat": 4,
 "nbformat_minor": 5
}
